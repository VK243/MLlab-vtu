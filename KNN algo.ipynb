{
 "cells": [
  {
   "cell_type": "code",
   "execution_count": 2,
   "id": "058a756e",
   "metadata": {},
   "outputs": [],
   "source": [
    "from sklearn.model_selection import train_test_split\n",
    "from sklearn.neighbors import KNeighborsClassifier\n",
    "from sklearn import datasets"
   ]
  },
  {
   "cell_type": "code",
   "execution_count": 4,
   "id": "725da0b2",
   "metadata": {},
   "outputs": [
    {
     "name": "stdout",
     "output_type": "stream",
     "text": [
      "Iris Dataset is loaded..\n",
      "Label  0  -  setosa\n",
      "Label  1  -  versicolor\n",
      "Label  2  -  virginica\n",
      "Results of the classification using KNN with k=5\n",
      "Sample : [6.6 3.  4.4 1.4] Actual label : 1 Predicted label 1\n",
      "Sample : [6.7 3.  5.2 2.3] Actual label : 2 Predicted label 2\n",
      "Sample : [6.5 3.  5.5 1.8] Actual label : 2 Predicted label 2\n",
      "Sample : [4.9 2.5 4.5 1.7] Actual label : 2 Predicted label 1\n",
      "Sample : [5.5 2.4 3.8 1.1] Actual label : 1 Predicted label 1\n",
      "Sample : [5.  3.4 1.6 0.4] Actual label : 0 Predicted label 0\n",
      "Sample : [5.1 3.7 1.5 0.4] Actual label : 0 Predicted label 0\n",
      "Sample : [7.1 3.  5.9 2.1] Actual label : 2 Predicted label 2\n",
      "Sample : [6.  3.  4.8 1.8] Actual label : 2 Predicted label 2\n",
      "Sample : [4.6 3.1 1.5 0.2] Actual label : 0 Predicted label 0\n",
      "Sample : [7.7 2.6 6.9 2.3] Actual label : 2 Predicted label 2\n",
      "Sample : [6.7 2.5 5.8 1.8] Actual label : 2 Predicted label 2\n",
      "Sample : [4.6 3.2 1.4 0.2] Actual label : 0 Predicted label 0\n",
      "Sample : [7.3 2.9 6.3 1.8] Actual label : 2 Predicted label 2\n",
      "Sample : [6.3 2.7 4.9 1.8] Actual label : 2 Predicted label 2\n",
      "Classification accuracy : 0.9333333333333333\n"
     ]
    }
   ],
   "source": [
    "iris=datasets.load_iris()\n",
    "print(\"Iris Dataset is loaded..\")\n",
    "x_train,x_test,y_train,y_test=train_test_split(iris.data,iris.target,test_size=0.1)\n",
    "for i in range(len(iris.target_names)):\n",
    "    print(\"Label \",i,\" - \",str(iris.target_names[i]))\n",
    "classifier=KNeighborsClassifier(n_neighbors=5)\n",
    "classifier.fit(x_train,y_train)\n",
    "y_pred=classifier.predict(x_test)\n",
    "print(\"Results of the classification using KNN with k=5\")\n",
    "for r in range (0,len(x_test)):\n",
    "    print(\"Sample :\",str(x_test[r]),\"Actual label :\",str(y_test[r]),\"Predicted label\",str(y_pred[r]))\n",
    "print(\"Classification accuracy :\",classifier.score(x_test,y_test))"
   ]
  },
  {
   "cell_type": "code",
   "execution_count": null,
   "id": "10899ab0",
   "metadata": {},
   "outputs": [],
   "source": []
  }
 ],
 "metadata": {
  "kernelspec": {
   "display_name": "Python 3 (ipykernel)",
   "language": "python",
   "name": "python3"
  },
  "language_info": {
   "codemirror_mode": {
    "name": "ipython",
    "version": 3
   },
   "file_extension": ".py",
   "mimetype": "text/x-python",
   "name": "python",
   "nbconvert_exporter": "python",
   "pygments_lexer": "ipython3",
   "version": "3.10.4"
  }
 },
 "nbformat": 4,
 "nbformat_minor": 5
}
